{
 "cells": [
  {
   "cell_type": "code",
   "execution_count": null,
   "metadata": {
    "dotnet_interactive": {
     "language": "csharp"
    }
   },
   "outputs": [
    {
     "name": "stdout",
     "output_type": "stream",
     "text": [
      "0\r\n",
      "6\r\n",
      "Today is Sunday.\r\n",
      "Monday was 6 days ago, on 1/24/2022 12:00:00 AM\r\n",
      "1/30/2022 11:41:19 AM\r\n",
      "1/24/2022 12:00:00 AM\r\n",
      "This much time has pssed since Last Monday - 6.11:41:19.2644429\r\n"
     ]
    }
   ],
   "source": [
    "using System;\n",
    "\n",
    "DateTime dt = DateTime.Now;\n",
    "\n",
    "// Console.WriteLine(\"Is Thursday the day of the week for {0:d}?: {1}\",\n",
    "//                    dt, dt.DayOfWeek == DayOfWeek.Thursday);\n",
    "\n",
    "// DateTime.Now.DayOfWeek\n",
    "\n",
    "// Console.WriteLine(\"The day of the week for {0:d} is {1}.\", dt, dt.DayOfWeek);\n",
    "\n",
    "\n",
    "var dayofWeek = (int)System.DateTime.Now.DayOfWeek;\n",
    "Console.WriteLine(dayofWeek);\n",
    "\n",
    "// 1 -> 0\n",
    "// 2 -> 1\n",
    "// 3 -> 2\n",
    "// 4 -> 3\n",
    "// 5 -> 4\n",
    "// 6 -> 5\n",
    "// 0 -> 6\n",
    "\n",
    "\n",
    "// if(dayofWeek == 0) days\n",
    "var daysFromMonday = (dayofWeek == 0) ? 6 : dayofWeek - 1;\n",
    "\n",
    "Console.WriteLine(daysFromMonday);\n",
    "\n",
    "var lastMonday = System.DateTime.Now.AddDays(-daysFromMonday);\n",
    "\n",
    "Console.WriteLine($\"Today is {DateTime.Now.DayOfWeek}.\");\n",
    "Console.WriteLine($\"Monday was {daysFromMonday} days ago, on {lastMonday.Date}\");\n",
    "\n",
    "lastMonday = lastMonday.Date;\n",
    "\n",
    "//Monday 12:00am \n",
    "\n",
    "//TimeSpan to represent how much time has gone by since Last Monday\n",
    "var currentDate = DateTime.Now;\n",
    "\n",
    "System.TimeSpan diff = currentDate.Subtract(lastMonday);\n",
    "\n",
    "// Console.Writeline(currentDate);\n",
    "// Console.Writeline(lastMonday);\n",
    "Console.WriteLine(currentDate.ToString());\n",
    "Console.WriteLine(lastMonday.ToString());\n",
    "Console.WriteLine($\"This much time has pssed since Last Monday - {diff:c}\");\n"
   ]
  }
 ],
 "metadata": {
  "kernelspec": {
   "display_name": ".NET (C#)",
   "language": "C#",
   "name": ".net-csharp"
  },
  "language_info": {
   "name": "C#"
  }
 },
 "nbformat": 4,
 "nbformat_minor": 2
}
